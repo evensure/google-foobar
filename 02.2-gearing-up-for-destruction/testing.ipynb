{
 "cells": [
  {
   "cell_type": "markdown",
   "id": "d63603c1-852f-47c5-88ac-82d74820fb50",
   "metadata": {},
   "source": [
    "- [https://www.quora.com/How-do-you-solve-Googles-foo-bar-coding-problem-Gearing-Up-for-Destruction?share=1](https://www.quora.com/How-do-you-solve-Googles-foo-bar-coding-problem-Gearing-Up-for-Destruction?share=1)\n",
    "\n",
    "- [https://gist.github.com/vishvanand/ba2a42ca86d0e904a92255879ad6f83d](https://gist.github.com/vishvanand/ba2a42ca86d0e904a92255879ad6f83d)\n",
    "\n",
    "- [https://pratickroy.medium.com/my-google-foobar-journey-6e46034b835f](https://pratickroy.medium.com/my-google-foobar-journey-6e46034b835f)\n",
    "\n",
    "- [https://github.com/GlennTJR96/GoogleFoobar-gearing-up-for-destruction/blob/main/solution.java](https://github.com/GlennTJR96/GoogleFoobar-gearing-up-for-destruction/blob/main/solution.java)\n",
    "\n"
   ]
  }
 ],
 "metadata": {
  "kernelspec": {
   "display_name": "Python 3 (ipykernel)",
   "language": "python",
   "name": "python3"
  },
  "language_info": {
   "codemirror_mode": {
    "name": "ipython",
    "version": 3
   },
   "file_extension": ".py",
   "mimetype": "text/x-python",
   "name": "python",
   "nbconvert_exporter": "python",
   "pygments_lexer": "ipython3",
   "version": "3.10.6"
  }
 },
 "nbformat": 4,
 "nbformat_minor": 5
}
