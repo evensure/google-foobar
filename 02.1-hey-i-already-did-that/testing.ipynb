{
 "cells": [
  {
   "cell_type": "markdown",
   "id": "3200d671-e8c0-4e2d-bd2d-b9d0dd2eae2d",
   "metadata": {},
   "source": [
    "other sources:\n",
    "- [https://github.com/hirenvasani/foobar/blob/master/hey_i_already_did_that.py](https://github.com/hirenvasani/foobar/blob/master/hey_i_already_did_that.py)\n",
    "\n",
    "- [https://github.com/whuey79/Foobar-Python-Challenge/blob/master/hey_i_already_did_that.py](https://github.com/whuey79/Foobar-Python-Challenge/blob/master/hey_i_already_did_that.py)\n",
    "\n",
    "- [https://github.com/ryanchao2012/foobar/blob/master/level2/level2.hey-i-already-did-that.ryanchao.ipynb](https://github.com/ryanchao2012/foobar/blob/master/level2/level2.hey-i-already-did-that.ryanchao.ipynb)\n",
    "\n",
    "\n",
    "This source:\n",
    "[https://github.com/ryanchao2012/foobar/blob/master/level2/level2.hey-i-already-did-that.ryanchao.ipynb](https://github.com/ryanchao2012/foobar/blob/master/level2/level2.hey-i-already-did-that.ryanchao.ipynb)\n",
    "\n",
    "# Hey, I Already Did That!\n",
    "\n",
    "Commander Lambda uses an automated algorithm to assign minions randomly to tasks, in order to keep her minions on their toes. But you've noticed a flaw in the algorithm - it eventually loops back on itself, so that instead of assigning new minions as it iterates, it gets stuck in a cycle of values so that the same minions end up doing the same tasks over and over again. You think proving this to Commander Lambda will help you make a case for your next promotion.\n",
    "\n",
    "You have worked out that the algorithm has the following process:\n",
    "\n",
    "1) Start with a random minion ID n, which is a nonnegative integer of length k in base b 2) Define x and y as integers of length k. x has the digits of n in descending order, and y has the digits of n in ascending order 3) Define z = x - y. Add leading zeros to z to maintain length k if necessary 4) Assign n = z to get the next minion ID, and go back to step 2\n",
    "\n",
    "For example, given minion ID n = 1211, k = 4, b = 10, then x = 2111, y = 1112 and z = 2111 - 1112 = 0999. Then the next minion ID will be n = 0999 and the algorithm iterates again: x = 9990, y = 0999 and z = 9990 - 0999 = 8991, and so on.\n",
    "\n",
    "Depending on the values of n, k (derived from n), and b, at some point the algorithm reaches a cycle, such as by reaching a constant value. For example, starting with n = 210022, k = 6, b = 3, the algorithm will reach the cycle of values [210111, 122221, 102212] and it will stay in this cycle no matter how many times it continues iterating. Starting with n = 1211, the routine will reach the integer 6174, and since 7641 - 1467 is 6174, it will stay as that value no matter how many times it iterates.\n",
    "\n",
    "Given a minion ID as a string n representing a nonnegative integer of length k in base b, where 2 <= k <= 9 and 2 <= b <= 10, write a function answer(n, b) which returns the length of the ending cycle of the algorithm above starting with n. For instance, in the example above, answer(210022, 3) would return 3, since iterating on 102212 would return to 210111 when done in base 3. If the algorithm reaches a constant, such as 0, then the length is 1.\n",
    "\n",
    "# Languages\n",
    "\n",
    "To provide a Python solution, edit solution.py To provide a Java solution, edit solution.java\n",
    "\n",
    "# Test cases\n",
    "\n",
    "Inputs: (string) n = \"1211\" (int) b = 10 Output: (int) 1\n",
    "\n",
    "Inputs: (string) n = \"210022\" (int) b = 3 Output: (int) 3\n"
   ]
  },
  {
   "cell_type": "code",
   "execution_count": 2,
   "id": "7f3d5a84-93c4-4675-bc43-dee453eac648",
   "metadata": {},
   "outputs": [
    {
     "data": {
      "text/plain": [
       "True"
      ]
     },
     "execution_count": 2,
     "metadata": {},
     "output_type": "execute_result"
    }
   ],
   "source": [
    "a = ['1111', '0012', '1234']\n",
    "'1234' in a"
   ]
  },
  {
   "cell_type": "code",
   "execution_count": 3,
   "id": "6a2a5363-404a-4bf0-9a21-6b8070a7aff3",
   "metadata": {},
   "outputs": [
    {
     "data": {
      "text/plain": [
       "2"
      ]
     },
     "execution_count": 3,
     "metadata": {},
     "output_type": "execute_result"
    }
   ],
   "source": [
    "a = 10\n",
    "b = 4\n",
    "a // b"
   ]
  },
  {
   "cell_type": "code",
   "execution_count": 4,
   "id": "e934e09e-8eda-42e0-80da-2b342dd296bd",
   "metadata": {},
   "outputs": [],
   "source": [
    "#  to_base_n(str: int_base_10, int: n) -> str: str_base_n\n",
    "#  2 <= n < 10\n",
    "def to_base_n(int_base_10, n):\n",
    "    residual = int(int_base_10)\n",
    "    digits_base_n = []\n",
    "    while residual >= n:\n",
    "        r = residual % n\n",
    "        digits_base_n.append(str(r))\n",
    "        residual = (residual - r) // n\n",
    "    digits_base_n.append(str(residual))\n",
    "    return ''.join(digits_base_n[::-1])\n",
    "\n",
    "#  to_base_10(str: int_base_n, int: n) -> str: str_base_10\n",
    "#  2 <= n < 10\n",
    "def to_base_10(int_base_n, n):\n",
    "    x = list(int_base_n[::-1])\n",
    "    y_base_10 = 0\n",
    "    for i, a in enumerate(x):\n",
    "        y_base_10 += int(a) * (n ** i)\n",
    "    return str(y_base_10)"
   ]
  },
  {
   "cell_type": "code",
   "execution_count": 5,
   "id": "3008509b-3210-4738-b6a9-02aecbd70f01",
   "metadata": {},
   "outputs": [
    {
     "name": "stdout",
     "output_type": "stream",
     "text": [
      "130430224240324\n",
      "True\n"
     ]
    }
   ],
   "source": [
    "x = 9991243214\n",
    "n = 5\n",
    "y = to_base_n(x, n)\n",
    "z = to_base_10(y, n)\n",
    "print(y)\n",
    "print(str(x) == z)"
   ]
  },
  {
   "cell_type": "code",
   "execution_count": 6,
   "id": "3df69beb-58ee-4825-8948-26caa25c2be0",
   "metadata": {},
   "outputs": [
    {
     "data": {
      "text/plain": [
       "(8, 10)"
      ]
     },
     "execution_count": 6,
     "metadata": {},
     "output_type": "execute_result"
    }
   ],
   "source": [
    "a = list('abcdefghij')\n",
    "a.index('i'), len(a)"
   ]
  },
  {
   "cell_type": "code",
   "execution_count": 7,
   "id": "0dbc03c0-b282-4e9f-8731-ca843a513cae",
   "metadata": {},
   "outputs": [
    {
     "data": {
      "text/plain": [
       "False"
      ]
     },
     "execution_count": 7,
     "metadata": {},
     "output_type": "execute_result"
    }
   ],
   "source": [
    "a = []\n",
    "'' in a"
   ]
  },
  {
   "cell_type": "code",
   "execution_count": 8,
   "id": "b7c5ff41-0a28-4d84-b4c4-3397110e2520",
   "metadata": {},
   "outputs": [],
   "source": [
    "def answer(n, b):\n",
    "    k = len(n)\n",
    "    m = n\n",
    "    mini_id = []\n",
    "    while m not in mini_id:\n",
    "        mini_id.append(m)\n",
    "        s = sorted(m)\n",
    "        x_descend = ''.join(s[::-1])\n",
    "        y_ascend = ''.join(s)        \n",
    "        if b == 10:\n",
    "            int_m = int(x_descend) - int(y_ascend)\n",
    "            m = str(int_m)\n",
    "        else:\n",
    "            int_m_10 = int(to_base_10(x_descend, b)) - int(to_base_10(y_ascend, b))\n",
    "            m = to_base_n(str(int_m_10), b)\n",
    "        \n",
    "        m =  (k - len(m)) * '0' + m\n",
    "    print(mini_id)\n",
    "    return len(mini_id) - mini_id.index(m)"
   ]
  },
  {
   "cell_type": "code",
   "execution_count": null,
   "id": "b5d9051d-6db9-4f29-a842-348c62f663f2",
   "metadata": {},
   "outputs": [],
   "source": [
    "answer('210022', 3)"
   ]
  }
 ],
 "metadata": {
  "kernelspec": {
   "display_name": "Python 3 (ipykernel)",
   "language": "python",
   "name": "python3"
  },
  "language_info": {
   "codemirror_mode": {
    "name": "ipython",
    "version": 3
   },
   "file_extension": ".py",
   "mimetype": "text/x-python",
   "name": "python",
   "nbconvert_exporter": "python",
   "pygments_lexer": "ipython3",
   "version": "3.10.6"
  }
 },
 "nbformat": 4,
 "nbformat_minor": 5
}
